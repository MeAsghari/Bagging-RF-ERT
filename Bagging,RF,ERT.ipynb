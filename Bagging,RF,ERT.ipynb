{
 "cells": [
  {
   "cell_type": "code",
   "execution_count": 1,
   "id": "71dca9ab-4fcd-4bca-895f-3c63a9cc7f00",
   "metadata": {},
   "outputs": [],
   "source": [
    "import numpy as np\n",
    "import pandas as pd\n",
    "import matplotlib.pyplot as plt\n",
    "import seaborn as sns\n",
    "from sklearn.model_selection import train_test_split\n",
    "from sklearn.linear_model import LogisticRegression , LinearRegression , SGDRegressor\n",
    "from sklearn.neighbors import KNeighborsClassifier , KNeighborsRegressor\n",
    "from sklearn.metrics import accuracy_score , r2_score\n",
    "from mlxtend.plotting import plot_decision_regions\n",
    "from sklearn.tree import DecisionTreeClassifier , DecisionTreeRegressor\n",
    "from sklearn import svm\n",
    "\n",
    "from scipy.stats import mode"
   ]
  },
  {
   "cell_type": "code",
   "execution_count": 2,
   "id": "a819d403-1882-455d-9e31-a638cb4d7578",
   "metadata": {},
   "outputs": [
    {
     "name": "stdout",
     "output_type": "stream",
     "text": [
      "(272, 13)\n",
      "(272,)\n",
      "(31, 13)\n",
      "(31,)\n"
     ]
    }
   ],
   "source": [
    "df = pd.read_csv('data/heart.csv')\n",
    "\n",
    "train_set , test_set = train_test_split(df , test_size=0.1 , random_state=0 , stratify=df.iloc[: , -1])\n",
    "X_train = train_set.iloc[: , 0:-1].values\n",
    "y_train = train_set.iloc[: , -1].values\n",
    "\n",
    "X_test = test_set.iloc[: , 0:-1].values\n",
    "y_test = test_set.iloc[: , -1].values\n",
    "\n",
    "print(X_train.shape)\n",
    "print(y_train.shape)\n",
    "print(X_test.shape) \n",
    "print(y_test.shape)"
   ]
  },
  {
   "cell_type": "markdown",
   "id": "3c6c4dbf-1b24-4aa0-a66a-9b6e5741e86d",
   "metadata": {},
   "source": [
    "## **Bagging Classifications**"
   ]
  },
  {
   "cell_type": "code",
   "execution_count": 3,
   "id": "7792cab8-ac5c-4271-8e79-c05fd808ff69",
   "metadata": {},
   "outputs": [],
   "source": [
    "class BaggingClassification():\n",
    "    \n",
    "    def __init__(self , estimator , n_estimator , subset_size , t_score , random_state=42 , task='classification'):\n",
    "        self.estimator = estimator\n",
    "        self.n_estimator = n_estimator\n",
    "        self.subset_size = subset_size\n",
    "        self.models = []\n",
    "        self.all_preds = []\n",
    "        self.task = task\n",
    "        self.t_score = t_score\n",
    "        self.random_state = random_state\n",
    "        np.random.seed(self.random_state)\n",
    "        \n",
    "        \n",
    "    def fit(self , X , y):\n",
    "        \n",
    "        for i in range(self.n_estimator):\n",
    "            X_subset , _ , y_subset , _ = train_test_split(X , y , test_size=self.subset_size , stratify=y)\n",
    "            clf = self.estimator.__class__()\n",
    "            clf.fit(X_subset , y_subset)\n",
    "            self.models.append(clf)\n",
    "            \n",
    "            \n",
    "    def models_predict(self , x):\n",
    "        for mdl in self.models:\n",
    "            y_pred = mdl.predict(x)\n",
    "            self.all_preds.append(y_pred)\n",
    "        all_preds_array = np.array(self.all_preds)\n",
    "        return all_preds_array\n",
    "    \n",
    "    \n",
    "    def predict(self , xt):\n",
    "        \n",
    "        predictions = self.models_predict(xt)\n",
    "        if self.task=='classification':\n",
    "            ensemble_prediction = mode(predictions).mode.ravel() \n",
    "        if self.task=='regression':\n",
    "            ensemble_prediction = np.mean(predictions , axis=0)\n",
    "        return ensemble_prediction\n",
    "    \n",
    "    \n",
    "    def models_score(self , xs , ys):\n",
    "        models_predictions = self.models_predict(xs)\n",
    "        for i,y_hat in enumerate(models_predictions):\n",
    "            print(f'Score for model{i} is {self.t_score(ys , y_hat)}')\n",
    "            \n",
    "            \n",
    "    def ensemble_score(self , xe , ye):\n",
    "        y_hat_ensemble = self.predict(xe)\n",
    "        print(f'Score for ensemble bagging is {self.t_score(ye , y_hat_ensemble)}')"
   ]
  },
  {
   "cell_type": "code",
   "execution_count": 4,
   "id": "cd2c0679-d382-4241-9676-8bbe0582707d",
   "metadata": {},
   "outputs": [
    {
     "name": "stdout",
     "output_type": "stream",
     "text": [
      "Score for model0 is 0.7419354838709677\n",
      "Score for model1 is 0.7741935483870968\n",
      "Score for model2 is 0.7096774193548387\n",
      "Score for model3 is 0.7096774193548387\n",
      "Score for model4 is 0.7419354838709677\n",
      "Score for model5 is 0.6774193548387096\n",
      "Score for model6 is 0.8064516129032258\n",
      "Score for model7 is 0.7741935483870968\n",
      "Score for model8 is 0.7096774193548387\n",
      "Score for model9 is 0.7419354838709677\n",
      "Score for model10 is 0.7741935483870968\n",
      "Score for model11 is 0.5806451612903226\n",
      "Score for model12 is 0.7096774193548387\n",
      "Score for model13 is 0.7419354838709677\n",
      "Score for model14 is 0.6129032258064516\n",
      "Score for model15 is 0.8709677419354839\n",
      "Score for model16 is 0.7419354838709677\n",
      "Score for model17 is 0.6451612903225806\n",
      "Score for model18 is 0.7741935483870968\n",
      "Score for model19 is 0.8387096774193549\n"
     ]
    }
   ],
   "source": [
    "model = DecisionTreeClassifier()\n",
    "\n",
    "bagging = BaggingClassification(estimator=model , n_estimator=20 , subset_size=0.6 , t_score=accuracy_score , random_state=0)\n",
    "\n",
    "bagging.fit(X_train , y_train)\n",
    "\n",
    "bagging.models_score(X_test , y_test)"
   ]
  },
  {
   "cell_type": "code",
   "execution_count": 5,
   "id": "4e2943f6-3b0f-4de2-89f5-7bb3b847f07c",
   "metadata": {},
   "outputs": [
    {
     "name": "stdout",
     "output_type": "stream",
     "text": [
      "Score for ensemble bagging is 0.8064516129032258\n"
     ]
    }
   ],
   "source": [
    "bagging.ensemble_score(X_test , y_test)"
   ]
  },
  {
   "cell_type": "markdown",
   "id": "13ca3645-b23f-4409-850d-3218a03cf3fc",
   "metadata": {},
   "source": [
    "## **Random Forest**"
   ]
  },
  {
   "cell_type": "code",
   "execution_count": 179,
   "id": "f4b9e80b-4509-4d06-a691-e54b776b6662",
   "metadata": {},
   "outputs": [],
   "source": [
    "class RandomForest():\n",
    "    \n",
    "    def __init__(self , n_estimator , max_depth , subset_size , num_subspace , t_score , ccp , splitter , random_state=4 , task='classification'):\n",
    "        self.n_estimator = n_estimator\n",
    "        self.subset_size = subset_size\n",
    "        self.models = []\n",
    "        self.all_preds = []\n",
    "        self.task = task\n",
    "        self.t_score = t_score\n",
    "        self.random_state = random_state\n",
    "        self.max_depth = max_depth\n",
    "        self.num_subspace = num_subspace\n",
    "        self.ccp = ccp\n",
    "        self.all_sub_features = []\n",
    "        self.splitter = splitter\n",
    "        np.random.seed(self.random_state)\n",
    "        \n",
    "        \n",
    "    def fit(self , X , y):\n",
    "        \n",
    "        for i in range(self.n_estimator):\n",
    "            X_subset , _ , y_subset , _ = train_test_split(X , y , test_size=self.subset_size , stratify=y)\n",
    "            num_features = X_subset.shape[1]\n",
    "            subspace = np.random.choice(num_features , self.num_subspace , replace=False)\n",
    "            X_sub = X_subset[: , subspace]\n",
    "            clf = DecisionTreeClassifier(max_depth=self.max_depth , random_state=0 , class_weight='balanced' , ccp_alpha=self.ccp , splitter=self.splitter)\n",
    "            clf.fit(X_sub , y_subset)\n",
    "            self.models.append(clf)\n",
    "            self.all_sub_features.append(subspace)\n",
    "\n",
    "            \n",
    "    def models_predict(self , x):\n",
    "        for mdl,sub_feature in zip(self.models , self.all_sub_features):\n",
    "            x_new = x[: , sub_feature]\n",
    "            y_pred = mdl.predict(x_new)\n",
    "            self.all_preds.append(y_pred)\n",
    "        all_preds_array = np.array(self.all_preds)\n",
    "        return all_preds_array\n",
    "    \n",
    "    \n",
    "    def predict(self , xt):\n",
    "        \n",
    "        predictions = self.models_predict(xt)\n",
    "        if self.task=='classification':\n",
    "            ensemble_prediction = mode(predictions).mode.ravel() \n",
    "        if self.task=='regression':\n",
    "            ensemble_prediction = np.mean(predictions , axis=0)\n",
    "        return ensemble_prediction\n",
    "    \n",
    "    \n",
    "    def models_score(self , xs , ys):\n",
    "        models_predictions = self.models_predict(xs)\n",
    "        for i,y_hat in enumerate(models_predictions):\n",
    "            print(f'Score for model{i} is {self.t_score(ys , y_hat)}')\n",
    "            \n",
    "            \n",
    "    def ensemble_score(self , xe , ye):\n",
    "        y_hat_ensemble = self.predict(xe)\n",
    "        print(f'Score for ensemble is {self.t_score(ye , y_hat_ensemble)}')"
   ]
  },
  {
   "cell_type": "code",
   "execution_count": 184,
   "id": "afba4c64-d4c6-466e-bfb1-3a2f056a9a8e",
   "metadata": {},
   "outputs": [
    {
     "name": "stdout",
     "output_type": "stream",
     "text": [
      "Score for model0 is 0.7096774193548387\n",
      "Score for model1 is 0.7419354838709677\n",
      "Score for model2 is 0.7419354838709677\n",
      "Score for model3 is 0.7096774193548387\n",
      "Score for model4 is 0.8709677419354839\n",
      "Score for model5 is 0.6774193548387096\n",
      "Score for model6 is 0.5806451612903226\n",
      "Score for model7 is 0.8064516129032258\n",
      "Score for model8 is 0.8709677419354839\n",
      "Score for model9 is 0.8064516129032258\n",
      "Score for model10 is 0.8064516129032258\n",
      "Score for model11 is 0.8387096774193549\n",
      "Score for model12 is 0.8064516129032258\n",
      "Score for model13 is 0.7096774193548387\n",
      "Score for model14 is 0.7741935483870968\n",
      "Score for model15 is 0.7741935483870968\n",
      "Score for model16 is 0.7741935483870968\n",
      "Score for model17 is 0.7741935483870968\n",
      "Score for model18 is 0.7419354838709677\n",
      "Score for model19 is 0.7741935483870968\n"
     ]
    }
   ],
   "source": [
    "rf = RandomForest(n_estimator=20 , max_depth=3 , subset_size=0.6 , num_subspace=13 , t_score=accuracy_score , ccp=0.0 , splitter='best')\n",
    "rf.fit(X_train , y_train)\n",
    "rf.models_score(X_test , y_test)"
   ]
  },
  {
   "cell_type": "code",
   "execution_count": 185,
   "id": "127b11ec-fda9-4e96-bbbc-563a92521523",
   "metadata": {},
   "outputs": [
    {
     "name": "stdout",
     "output_type": "stream",
     "text": [
      "Score for ensemble is 0.8709677419354839\n"
     ]
    }
   ],
   "source": [
    "rf.ensemble_score(X_test , y_test)"
   ]
  },
  {
   "cell_type": "markdown",
   "id": "55797e51-be93-4d91-bbce-25573e4977be",
   "metadata": {},
   "source": [
    "## **Extremely Randomized Trees**"
   ]
  },
  {
   "cell_type": "code",
   "execution_count": 186,
   "id": "8bf66891-132d-4fe1-a4ab-b430e0e9c0aa",
   "metadata": {},
   "outputs": [
    {
     "name": "stdout",
     "output_type": "stream",
     "text": [
      "Score for model0 is 0.7096774193548387\n",
      "Score for model1 is 0.7741935483870968\n",
      "Score for model2 is 0.7096774193548387\n",
      "Score for model3 is 0.6774193548387096\n",
      "Score for model4 is 0.8064516129032258\n",
      "Score for model5 is 0.7096774193548387\n",
      "Score for model6 is 0.6774193548387096\n",
      "Score for model7 is 0.7741935483870968\n",
      "Score for model8 is 0.8709677419354839\n",
      "Score for model9 is 0.7096774193548387\n",
      "Score for model10 is 0.7096774193548387\n",
      "Score for model11 is 0.7419354838709677\n",
      "Score for model12 is 0.8709677419354839\n",
      "Score for model13 is 0.7419354838709677\n",
      "Score for model14 is 0.7419354838709677\n",
      "Score for model15 is 0.8709677419354839\n",
      "Score for model16 is 0.8709677419354839\n",
      "Score for model17 is 0.7741935483870968\n",
      "Score for model18 is 0.6774193548387096\n",
      "Score for model19 is 0.7419354838709677\n"
     ]
    }
   ],
   "source": [
    "ert = RandomForest(n_estimator=20 , max_depth=3 , subset_size=0.6 , num_subspace=13 , t_score=accuracy_score , ccp=0.0 , splitter='random')\n",
    "ert.fit(X_train , y_train)\n",
    "ert.models_score(X_test , y_test)"
   ]
  },
  {
   "cell_type": "code",
   "execution_count": 187,
   "id": "d6620ef9-6ce6-4632-a745-53214adf8242",
   "metadata": {},
   "outputs": [
    {
     "name": "stdout",
     "output_type": "stream",
     "text": [
      "Score for ensemble is 0.8064516129032258\n"
     ]
    }
   ],
   "source": [
    "ert.ensemble_score(X_test , y_test)"
   ]
  },
  {
   "cell_type": "code",
   "execution_count": null,
   "id": "ced9d3c6-d2d4-4924-9de1-8641b8a727f5",
   "metadata": {},
   "outputs": [],
   "source": []
  }
 ],
 "metadata": {
  "kernelspec": {
   "display_name": "Python 3",
   "language": "python",
   "name": "python3"
  },
  "language_info": {
   "codemirror_mode": {
    "name": "ipython",
    "version": 3
   },
   "file_extension": ".py",
   "mimetype": "text/x-python",
   "name": "python",
   "nbconvert_exporter": "python",
   "pygments_lexer": "ipython3",
   "version": "3.7.16"
  }
 },
 "nbformat": 4,
 "nbformat_minor": 5
}
